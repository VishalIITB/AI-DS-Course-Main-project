{
  "cells": [
    {
      "cell_type": "code",
      "execution_count": 4,
      "id": "4af23721-91dc-431f-b417-06aa627d4c65",
      "metadata": {
        "id": "4af23721-91dc-431f-b417-06aa627d4c65"
      },
      "outputs": [],
      "source": [
        "import numpy as np\n",
        "import pandas as pd\n",
        "import matplotlib.pyplot as plt\n",
        "import seaborn as sns"
      ]
    },
    {
      "cell_type": "code",
      "execution_count": 5,
      "id": "7783ef20-ad3a-4e0e-ae9e-8c12f0871f98",
      "metadata": {
        "colab": {
          "base_uri": "https://localhost:8080/",
          "height": 304
        },
        "id": "7783ef20-ad3a-4e0e-ae9e-8c12f0871f98",
        "outputId": "d17e6a96-9137-4815-d857-4a47158286d9"
      },
      "outputs": [
        {
          "data": {
            "text/html": [
              "<div>\n",
              "<style scoped>\n",
              "    .dataframe tbody tr th:only-of-type {\n",
              "        vertical-align: middle;\n",
              "    }\n",
              "\n",
              "    .dataframe tbody tr th {\n",
              "        vertical-align: top;\n",
              "    }\n",
              "\n",
              "    .dataframe thead th {\n",
              "        text-align: right;\n",
              "    }\n",
              "</style>\n",
              "<table border=\"1\" class=\"dataframe\">\n",
              "  <thead>\n",
              "    <tr style=\"text-align: right;\">\n",
              "      <th></th>\n",
              "      <th>Country</th>\n",
              "      <th>Export</th>\n",
              "      <th>Import</th>\n",
              "      <th>Total Trade</th>\n",
              "      <th>Trade Balance</th>\n",
              "      <th>Financial Year(start)</th>\n",
              "      <th>Financial Year(end)</th>\n",
              "    </tr>\n",
              "  </thead>\n",
              "  <tbody>\n",
              "    <tr>\n",
              "      <th>0</th>\n",
              "      <td>AFGHANISTAN</td>\n",
              "      <td>21.25</td>\n",
              "      <td>10.7</td>\n",
              "      <td>31.95</td>\n",
              "      <td>10.55</td>\n",
              "      <td>1997</td>\n",
              "      <td>1998</td>\n",
              "    </tr>\n",
              "    <tr>\n",
              "      <th>1</th>\n",
              "      <td>AFGHANISTAN</td>\n",
              "      <td>12.81</td>\n",
              "      <td>28.14</td>\n",
              "      <td>40.95</td>\n",
              "      <td>-15.33</td>\n",
              "      <td>1998</td>\n",
              "      <td>1999</td>\n",
              "    </tr>\n",
              "    <tr>\n",
              "      <th>2</th>\n",
              "      <td>AFGHANISTAN</td>\n",
              "      <td>33.2</td>\n",
              "      <td>21.06</td>\n",
              "      <td>54.26</td>\n",
              "      <td>12.15</td>\n",
              "      <td>1999</td>\n",
              "      <td>2000</td>\n",
              "    </tr>\n",
              "    <tr>\n",
              "      <th>3</th>\n",
              "      <td>AFGHANISTAN</td>\n",
              "      <td>25.86</td>\n",
              "      <td>26.59</td>\n",
              "      <td>52.45</td>\n",
              "      <td>-0.73</td>\n",
              "      <td>2000</td>\n",
              "      <td>2001</td>\n",
              "    </tr>\n",
              "    <tr>\n",
              "      <th>4</th>\n",
              "      <td>AFGHANISTAN</td>\n",
              "      <td>24.37</td>\n",
              "      <td>17.52</td>\n",
              "      <td>41.89</td>\n",
              "      <td>6.85</td>\n",
              "      <td>2001</td>\n",
              "      <td>2002</td>\n",
              "    </tr>\n",
              "    <tr>\n",
              "      <th>...</th>\n",
              "      <td>...</td>\n",
              "      <td>...</td>\n",
              "      <td>...</td>\n",
              "      <td>...</td>\n",
              "      <td>...</td>\n",
              "      <td>...</td>\n",
              "      <td>...</td>\n",
              "    </tr>\n",
              "    <tr>\n",
              "      <th>5989</th>\n",
              "      <td>ZIMBABWE</td>\n",
              "      <td>181.72</td>\n",
              "      <td>7.79</td>\n",
              "      <td>189.51</td>\n",
              "      <td>173.93</td>\n",
              "      <td>2018</td>\n",
              "      <td>2019</td>\n",
              "    </tr>\n",
              "    <tr>\n",
              "      <th>5990</th>\n",
              "      <td>ZIMBABWE</td>\n",
              "      <td>161.13</td>\n",
              "      <td>13.59</td>\n",
              "      <td>174.72</td>\n",
              "      <td>147.54</td>\n",
              "      <td>2019</td>\n",
              "      <td>2020</td>\n",
              "    </tr>\n",
              "    <tr>\n",
              "      <th>5991</th>\n",
              "      <td>ZIMBABWE</td>\n",
              "      <td>175.72</td>\n",
              "      <td>5.71</td>\n",
              "      <td>181.42</td>\n",
              "      <td>170.01</td>\n",
              "      <td>2020</td>\n",
              "      <td>2021</td>\n",
              "    </tr>\n",
              "    <tr>\n",
              "      <th>5992</th>\n",
              "      <td>ZIMBABWE</td>\n",
              "      <td>200.49</td>\n",
              "      <td>7.77</td>\n",
              "      <td>208.27</td>\n",
              "      <td>192.72</td>\n",
              "      <td>2021</td>\n",
              "      <td>2022</td>\n",
              "    </tr>\n",
              "    <tr>\n",
              "      <th>5993</th>\n",
              "      <td>ZIMBABWE</td>\n",
              "      <td>50.17</td>\n",
              "      <td>0.61</td>\n",
              "      <td>50.78</td>\n",
              "      <td>49.57</td>\n",
              "      <td>2022</td>\n",
              "      <td>till now</td>\n",
              "    </tr>\n",
              "  </tbody>\n",
              "</table>\n",
              "<p>5994 rows × 7 columns</p>\n",
              "</div>"
            ],
            "text/plain": [
              "          Country  Export Import Total Trade Trade Balance  \\\n",
              "0     AFGHANISTAN   21.25   10.7       31.95         10.55   \n",
              "1     AFGHANISTAN   12.81  28.14       40.95        -15.33   \n",
              "2     AFGHANISTAN    33.2  21.06       54.26         12.15   \n",
              "3     AFGHANISTAN   25.86  26.59       52.45         -0.73   \n",
              "4     AFGHANISTAN   24.37  17.52       41.89          6.85   \n",
              "...           ...     ...    ...         ...           ...   \n",
              "5989     ZIMBABWE  181.72   7.79      189.51        173.93   \n",
              "5990     ZIMBABWE  161.13  13.59      174.72        147.54   \n",
              "5991     ZIMBABWE  175.72   5.71      181.42        170.01   \n",
              "5992     ZIMBABWE  200.49   7.77      208.27        192.72   \n",
              "5993     ZIMBABWE   50.17   0.61       50.78         49.57   \n",
              "\n",
              "      Financial Year(start) Financial Year(end)  \n",
              "0                      1997                1998  \n",
              "1                      1998                1999  \n",
              "2                      1999                2000  \n",
              "3                      2000                2001  \n",
              "4                      2001                2002  \n",
              "...                     ...                 ...  \n",
              "5989                   2018                2019  \n",
              "5990                   2019                2020  \n",
              "5991                   2020                2021  \n",
              "5992                   2021                2022  \n",
              "5993                   2022            till now  \n",
              "\n",
              "[5994 rows x 7 columns]"
            ]
          },
          "execution_count": 5,
          "metadata": {},
          "output_type": "execute_result"
        }
      ],
      "source": [
        "df=pd.read_csv('exports and imports of india(1997- July 2022) - exports and imports.csv')\n",
        "df"
      ]
    },
    {
      "cell_type": "code",
      "execution_count": 6,
      "id": "0f698986-4e9a-4c5c-b191-538dfa4bb285",
      "metadata": {
        "colab": {
          "base_uri": "https://localhost:8080/",
          "height": 300
        },
        "id": "0f698986-4e9a-4c5c-b191-538dfa4bb285",
        "outputId": "0595ea01-4acc-4632-a341-cffc7c030d29"
      },
      "outputs": [
        {
          "data": {
            "text/html": [
              "<div>\n",
              "<style scoped>\n",
              "    .dataframe tbody tr th:only-of-type {\n",
              "        vertical-align: middle;\n",
              "    }\n",
              "\n",
              "    .dataframe tbody tr th {\n",
              "        vertical-align: top;\n",
              "    }\n",
              "\n",
              "    .dataframe thead th {\n",
              "        text-align: right;\n",
              "    }\n",
              "</style>\n",
              "<table border=\"1\" class=\"dataframe\">\n",
              "  <thead>\n",
              "    <tr style=\"text-align: right;\">\n",
              "      <th></th>\n",
              "      <th>Financial Year(start)</th>\n",
              "    </tr>\n",
              "  </thead>\n",
              "  <tbody>\n",
              "    <tr>\n",
              "      <th>count</th>\n",
              "      <td>5994.000000</td>\n",
              "    </tr>\n",
              "    <tr>\n",
              "      <th>mean</th>\n",
              "      <td>2009.596096</td>\n",
              "    </tr>\n",
              "    <tr>\n",
              "      <th>std</th>\n",
              "      <td>7.460527</td>\n",
              "    </tr>\n",
              "    <tr>\n",
              "      <th>min</th>\n",
              "      <td>1997.000000</td>\n",
              "    </tr>\n",
              "    <tr>\n",
              "      <th>25%</th>\n",
              "      <td>2003.000000</td>\n",
              "    </tr>\n",
              "    <tr>\n",
              "      <th>50%</th>\n",
              "      <td>2010.000000</td>\n",
              "    </tr>\n",
              "    <tr>\n",
              "      <th>75%</th>\n",
              "      <td>2016.000000</td>\n",
              "    </tr>\n",
              "    <tr>\n",
              "      <th>max</th>\n",
              "      <td>2022.000000</td>\n",
              "    </tr>\n",
              "  </tbody>\n",
              "</table>\n",
              "</div>"
            ],
            "text/plain": [
              "       Financial Year(start)\n",
              "count            5994.000000\n",
              "mean             2009.596096\n",
              "std                 7.460527\n",
              "min              1997.000000\n",
              "25%              2003.000000\n",
              "50%              2010.000000\n",
              "75%              2016.000000\n",
              "max              2022.000000"
            ]
          },
          "execution_count": 6,
          "metadata": {},
          "output_type": "execute_result"
        }
      ],
      "source": [
        "df.describe()"
      ]
    },
    {
      "cell_type": "code",
      "execution_count": 7,
      "id": "a6608cb0-7ba7-4e03-be9c-ecb3d06e8e46",
      "metadata": {
        "colab": {
          "base_uri": "https://localhost:8080/"
        },
        "id": "a6608cb0-7ba7-4e03-be9c-ecb3d06e8e46",
        "outputId": "bb327bb9-000c-4987-a1fe-1e17d9eae893"
      },
      "outputs": [
        {
          "name": "stdout",
          "output_type": "stream",
          "text": [
            "Country                    0\n",
            "Export                     8\n",
            "Import                   552\n",
            "Total Trade              585\n",
            "Trade Balance            586\n",
            "Financial Year(start)      0\n",
            "Financial Year(end)        0\n",
            "dtype: int64\n"
          ]
        }
      ],
      "source": [
        "print(df.isnull().sum())  # This will print the number of missing values in each column"
      ]
    },
    {
      "cell_type": "code",
      "execution_count": 8,
      "id": "19b80158-8aca-4c23-a260-2f2ce56745c0",
      "metadata": {
        "colab": {
          "base_uri": "https://localhost:8080/",
          "height": 571
        },
        "id": "19b80158-8aca-4c23-a260-2f2ce56745c0",
        "outputId": "a16ddd6e-6963-4aa5-f0c5-74a3e85758b7"
      },
      "outputs": [
        {
          "data": {
            "text/plain": [
              "<Axes: >"
            ]
          },
          "execution_count": 8,
          "metadata": {},
          "output_type": "execute_result"
        },
        {
          "data": {
            "image/png": "[encoded data removed]",
            "text/plain": [
              "<Figure size 640x480 with 1 Axes>"
            ]
          },
          "metadata": {},
          "output_type": "display_data"
        }
      ],
      "source": [
        "sns.heatmap(df.isnull(),yticklabels=False,cbar=False,cmap='viridis')# to shjow the presemce of null values i.e orange horizontal line above\n",
        "# every column name indicates presence of a NA value in corresponding column"
      ]
    },
    {
      "cell_type": "code",
      "execution_count": 9,
      "id": "0ad517d4-4cc5-4044-b2e0-dca097e359bb",
      "metadata": {
        "colab": {
          "base_uri": "https://localhost:8080/"
        },
        "id": "0ad517d4-4cc5-4044-b2e0-dca097e359bb",
        "outputId": "a4b62c24-7a63-4673-ea1a-a1fc22881b7f"
      },
      "outputs": [
        {
          "name": "stdout",
          "output_type": "stream",
          "text": [
            "<class 'pandas.core.frame.DataFrame'>\n",
            "RangeIndex: 5994 entries, 0 to 5993\n",
            "Data columns (total 7 columns):\n",
            " #   Column                 Non-Null Count  Dtype \n",
            "---  ------                 --------------  ----- \n",
            " 0   Country                5994 non-null   object\n",
            " 1   Export                 5986 non-null   object\n",
            " 2   Import                 5442 non-null   object\n",
            " 3   Total Trade            5409 non-null   object\n",
            " 4   Trade Balance          5408 non-null   object\n",
            " 5   Financial Year(start)  5994 non-null   int64 \n",
            " 6   Financial Year(end)    5994 non-null   object\n",
            "dtypes: int64(1), object(6)\n",
            "memory usage: 327.9+ KB\n"
          ]
        }
      ],
      "source": [
        "df.info()"
      ]
    },
    {
      "cell_type": "code",
      "execution_count": 10,
      "id": "e53c0fde-fb50-4861-ab10-ca3264ef9e82",
      "metadata": {
        "colab": {
          "base_uri": "https://localhost:8080/"
        },
        "id": "e53c0fde-fb50-4861-ab10-ca3264ef9e82",
        "outputId": "96695766-0feb-4e57-b29f-7209823dc580"
      },
      "outputs": [
        {
          "data": {
            "text/plain": [
              "Country                   250\n",
              "Export                   4455\n",
              "Import                   3728\n",
              "Total Trade              4603\n",
              "Trade Balance            4499\n",
              "Financial Year(start)      26\n",
              "Financial Year(end)        26\n",
              "dtype: int64"
            ]
          },
          "execution_count": 10,
          "metadata": {},
          "output_type": "execute_result"
        }
      ],
      "source": [
        "df.nunique()"
      ]
    },
    {
      "cell_type": "code",
      "execution_count": 11,
      "id": "c5a5be79-aee4-44f9-9fab-9e75e5c9cb07",
      "metadata": {
        "id": "c5a5be79-aee4-44f9-9fab-9e75e5c9cb07"
      },
      "outputs": [],
      "source": [
        "df['Export'] = df['Export'].replace(',', '', regex=True)\n",
        "df['Import'] = df['Import'].replace(',', '', regex=True)"
      ]
    },
    {
      "cell_type": "code",
      "execution_count": 12,
      "id": "2e5748ea-58d9-43a1-8cd3-309c8fbc14cc",
      "metadata": {
        "id": "2e5748ea-58d9-43a1-8cd3-309c8fbc14cc"
      },
      "outputs": [],
      "source": [
        " df['Export'] = pd.to_numeric(df['Export'], errors='coerce')\n",
        " df['Import'] = pd.to_numeric(df['Import'], errors='coerce')"
      ]
    },
    {
      "cell_type": "code",
      "execution_count": 13,
      "id": "2553a0cc-5aeb-4d13-b9f4-93f3f99040a9",
      "metadata": {
        "id": "2553a0cc-5aeb-4d13-b9f4-93f3f99040a9"
      },
      "outputs": [],
      "source": [
        "df['Export'] = df['Export'].fillna(0)\n",
        "df['Import'] = df['Import'].fillna(0)"
      ]
    },
    {
      "cell_type": "code",
      "execution_count": 14,
      "id": "928e823b-7337-444a-bd1b-b49d42424d82",
      "metadata": {
        "colab": {
          "base_uri": "https://localhost:8080/"
        },
        "id": "928e823b-7337-444a-bd1b-b49d42424d82",
        "outputId": "372db985-8d53-4aa0-9148-617b1a2f51f4"
      },
      "outputs": [
        {
          "name": "stdout",
          "output_type": "stream",
          "text": [
            "Country                    0\n",
            "Export                     0\n",
            "Import                     0\n",
            "Total Trade              585\n",
            "Trade Balance            586\n",
            "Financial Year(start)      0\n",
            "Financial Year(end)        0\n",
            "dtype: int64\n"
          ]
        }
      ],
      "source": [
        "print(df.isnull().sum())"
      ]
    },
    {
      "cell_type": "code",
      "execution_count": 15,
      "id": "e13b24a6-7638-472e-bc5f-e90edbb105b5",
      "metadata": {
        "id": "e13b24a6-7638-472e-bc5f-e90edbb105b5"
      },
      "outputs": [],
      "source": [
        "df['Total Trade'] = df['Export'] + df['Import']\n",
        "df['Trade Balance'] = df['Export'] - df['Import']"
      ]
    },
    {
      "cell_type": "code",
      "execution_count": 16,
      "id": "abb28a7a-2d6c-4156-a6bf-ad0d0e96780c",
      "metadata": {
        "colab": {
          "base_uri": "https://localhost:8080/"
        },
        "id": "abb28a7a-2d6c-4156-a6bf-ad0d0e96780c",
        "outputId": "1835529b-b4ca-4355-be21-0d873a0b67af"
      },
      "outputs": [
        {
          "name": "stdout",
          "output_type": "stream",
          "text": [
            "Country                  0\n",
            "Export                   0\n",
            "Import                   0\n",
            "Total Trade              0\n",
            "Trade Balance            0\n",
            "Financial Year(start)    0\n",
            "Financial Year(end)      0\n",
            "dtype: int64\n"
          ]
        }
      ],
      "source": [
        "print(df.isnull().sum())"
      ]
    },
    {
      "cell_type": "code",
      "execution_count": 17,
      "id": "31742994-bb8d-4c6d-aff3-ef2e69cbb714",
      "metadata": {
        "id": "31742994-bb8d-4c6d-aff3-ef2e69cbb714"
      },
      "outputs": [],
      "source": [
        "df.to_csv('df.csv', index=False)"
      ]
    },
    {
      "cell_type": "code",
      "execution_count": 18,
      "id": "db925971-b471-4caa-b785-9472cb1dabb4",
      "metadata": {
        "colab": {
          "base_uri": "https://localhost:8080/",
          "height": 517
        },
        "id": "db925971-b471-4caa-b785-9472cb1dabb4",
        "outputId": "29697612-6569-4c42-c735-6b25c3e27319"
      },
      "outputs": [
        {
          "data": {
            "text/plain": [
              "(array([5.865e+03, 8.800e+01, 1.600e+01, 8.000e+00, 8.000e+00, 4.000e+00,\n",
              "        4.000e+00, 0.000e+00, 0.000e+00, 1.000e+00]),\n",
              " array([    0.   ,  7611.133, 15222.266, 22833.399, 30444.532, 38055.665,\n",
              "        45666.798, 53277.931, 60889.064, 68500.197, 76111.33 ]),\n",
              " <BarContainer object of 10 artists>)"
            ]
          },
          "execution_count": 18,
          "metadata": {},
          "output_type": "execute_result"
        },
        {
          "data": {
            "image/png": "[encoded data removed]",
            "text/plain": [
              "<Figure size 640x480 with 1 Axes>"
            ]
          },
          "metadata": {},
          "output_type": "display_data"
        }
      ],
      "source": [
        "plt.hist(df['Export'])"
      ]
    },
    {
      "cell_type": "code",
      "execution_count": null,
      "id": "a0892ce0-243f-404a-81d0-6f39e96290da",
      "metadata": {
        "id": "a0892ce0-243f-404a-81d0-6f39e96290da"
      },
      "outputs": [],
      "source": []
    }
  ],
  "metadata": {
    "colab": {
      "provenance": []
    },
    "kernelspec": {
      "display_name": "Python 3 (ipykernel)",
      "language": "python",
      "name": "python3"
    },
    "language_info": {
      "codemirror_mode": {
        "name": "ipython",
        "version": 3
      },
      "file_extension": ".py",
      "mimetype": "text/x-python",
      "name": "python",
      "nbconvert_exporter": "python",
      "pygments_lexer": "ipython3",
      "version": "3.11.8"
    }
  },
  "nbformat": 4,
  "nbformat_minor": 5
}
